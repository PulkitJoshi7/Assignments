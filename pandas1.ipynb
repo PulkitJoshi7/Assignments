{
 "cells": [
  {
   "cell_type": "code",
   "execution_count": 3,
   "metadata": {},
   "outputs": [
    {
     "name": "stdout",
     "output_type": "stream",
     "text": [
      "0     4\n",
      "1     8\n",
      "2    15\n",
      "3    16\n",
      "4    23\n",
      "5    42\n",
      "dtype: int64\n"
     ]
    }
   ],
   "source": [
    "import pandas as pd\n",
    "p=[4, 8, 15, 16, 23, 42]\n",
    "\n",
    "ps= pd.Series(p)\n",
    "print(ps)"
   ]
  },
  {
   "cell_type": "code",
   "execution_count": 4,
   "metadata": {},
   "outputs": [
    {
     "name": "stdout",
     "output_type": "stream",
     "text": [
      "0     4\n",
      "1     8\n",
      "2    15\n",
      "3    16\n",
      "4    23\n",
      "5    42\n",
      "6    35\n",
      "7    20\n",
      "8    36\n",
      "9    25\n",
      "dtype: int64\n"
     ]
    }
   ],
   "source": [
    "p=[4, 8, 15, 16, 23, 42, 35, 20, 36, 25]\n",
    "\n",
    "ps= pd.Series(p)\n",
    "print(ps)"
   ]
  },
  {
   "cell_type": "code",
   "execution_count": 5,
   "metadata": {},
   "outputs": [
    {
     "name": "stdout",
     "output_type": "stream",
     "text": [
      "     Name  Age  Gender\n",
      "0   Alice   25  Female\n",
      "1     Bob   30    Male\n",
      "2  Clarie   27  Female\n"
     ]
    }
   ],
   "source": [
    "d={'Name':[\"Alice\",\"Bob\",\"Clarie\"],'Age':[25,30,27],'Gender':[\"Female\",\"Male\",\"Female\"]}\n",
    "df=pd.DataFrame(d)\n",
    "print(df)"
   ]
  },
  {
   "attachments": {},
   "cell_type": "markdown",
   "metadata": {},
   "source": [
    "DataFrame is a 2-dimensional labeled data structure with columns of potentially different types.A Series only has one data column, whereas a single-column DataFrame contains both a data column and an index. "
   ]
  },
  {
   "attachments": {},
   "cell_type": "markdown",
   "metadata": {},
   "source": [
    "copy,duplicate and"
   ]
  },
  {
   "cell_type": "code",
   "execution_count": 8,
   "metadata": {},
   "outputs": [
    {
     "name": "stderr",
     "output_type": "stream",
     "text": [
      "C:\\Users\\pulkitj\\AppData\\Local\\Temp\\ipykernel_27544\\3531887430.py:27: FutureWarning: The frame.append method is deprecated and will be removed from pandas in a future version. Use pandas.concat instead.\n",
      "  student_register.append(new_person, ignore_index = True)\n"
     ]
    },
    {
     "data": {
      "text/html": [
       "<div>\n",
       "<style scoped>\n",
       "    .dataframe tbody tr th:only-of-type {\n",
       "        vertical-align: middle;\n",
       "    }\n",
       "\n",
       "    .dataframe tbody tr th {\n",
       "        vertical-align: top;\n",
       "    }\n",
       "\n",
       "    .dataframe thead th {\n",
       "        text-align: right;\n",
       "    }\n",
       "</style>\n",
       "<table border=\"1\" class=\"dataframe\">\n",
       "  <thead>\n",
       "    <tr style=\"text-align: right;\">\n",
       "      <th></th>\n",
       "      <th>Name</th>\n",
       "      <th>Age</th>\n",
       "      <th>Student</th>\n",
       "    </tr>\n",
       "  </thead>\n",
       "  <tbody>\n",
       "    <tr>\n",
       "      <th>0</th>\n",
       "      <td>Abhijit</td>\n",
       "      <td>20</td>\n",
       "      <td>False</td>\n",
       "    </tr>\n",
       "    <tr>\n",
       "      <th>1</th>\n",
       "      <td>Smriti</td>\n",
       "      <td>19</td>\n",
       "      <td>True</td>\n",
       "    </tr>\n",
       "    <tr>\n",
       "      <th>2</th>\n",
       "      <td>Akash</td>\n",
       "      <td>20</td>\n",
       "      <td>True</td>\n",
       "    </tr>\n",
       "    <tr>\n",
       "      <th>3</th>\n",
       "      <td>Roshni</td>\n",
       "      <td>14</td>\n",
       "      <td>False</td>\n",
       "    </tr>\n",
       "  </tbody>\n",
       "</table>\n",
       "</div>"
      ],
      "text/plain": [
       "      Name  Age  Student\n",
       "0  Abhijit   20    False\n",
       "1   Smriti   19     True\n",
       "2    Akash   20     True\n",
       "3   Roshni   14    False"
      ]
     },
     "execution_count": 8,
     "metadata": {},
     "output_type": "execute_result"
    }
   ],
   "source": [
    "import pandas as pd\n",
    " \n",
    " \n",
    "# creating a dataframe object\n",
    "student_register = pd.DataFrame()\n",
    " \n",
    "# assigning values to the\n",
    "# rows and columns of the\n",
    "# dataframe\n",
    "student_register['Name'] = ['Abhijit',\n",
    "                            'Smriti',\n",
    "                            'Akash',\n",
    "                            'Roshni']\n",
    " \n",
    "student_register['Age'] = [20, 19, 20, 14]\n",
    "student_register['Student'] = [False, True,\n",
    "                               True, False]\n",
    " \n",
    "student_register\n",
    "\n",
    "new_person = pd.Series(['Mansi', 19, True],\n",
    "                       index = ['Name', 'Age',\n",
    "                                'Student'])\n",
    " \n",
    "# using the .append() function\n",
    "# to add that row to the dataframe\n",
    "student_register.append(new_person, ignore_index = True)\n",
    "student_register"
   ]
  },
  {
   "attachments": {},
   "cell_type": "markdown",
   "metadata": {},
   "source": [
    "Which of the following is mutable in nature Series, DataFrame, Panel?\n",
    "Series is immutable else all are mutable"
   ]
  },
  {
   "cell_type": "code",
   "execution_count": 9,
   "metadata": {},
   "outputs": [
    {
     "name": "stdout",
     "output_type": "stream",
     "text": [
      "  name  age\n",
      "0   mr   25\n",
      "1   ar   83\n",
      "2   tr   34\n"
     ]
    }
   ],
   "source": [
    "a=pd.Series([25,83,34])\n",
    "N=pd.Series([\"mr\",\"ar\",\"tr\"])\n",
    "\n",
    "df1= pd.DataFrame({'name':N,'age':a})\n",
    "\n",
    "print(df1)"
   ]
  }
 ],
 "metadata": {
  "kernelspec": {
   "display_name": "Python 3",
   "language": "python",
   "name": "python3"
  },
  "language_info": {
   "codemirror_mode": {
    "name": "ipython",
    "version": 3
   },
   "file_extension": ".py",
   "mimetype": "text/x-python",
   "name": "python",
   "nbconvert_exporter": "python",
   "pygments_lexer": "ipython3",
   "version": "3.9.13"
  },
  "orig_nbformat": 4
 },
 "nbformat": 4,
 "nbformat_minor": 2
}
