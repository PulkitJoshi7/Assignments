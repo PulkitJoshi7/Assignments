{
 "cells": [
  {
   "cell_type": "code",
   "execution_count": null,
   "metadata": {},
   "outputs": [],
   "source": []
  },
  {
   "attachments": {},
   "cell_type": "markdown",
   "metadata": {},
   "source": [
    "q1.\n",
    "Multiprocessing refers to the ability of a system to support more than one processor at the same time. Applications in a multiprocessing system are broken to smaller routines that run independently. The operating system allocates these threads to the processors improving performance of the system.\n",
    "Consider a computer system with a single processor. If it is assigned several processes at the same time, it will have to interrupt each task and switch briefly to another, to keep all of the processes going.\n",
    "This situation is just like a chef working in a kitchen alone. He has to do several tasks like baking, stirring, kneading dough, etc.\n",
    "\n",
    "So the gist is that: The more tasks you must do at once, the more difficult it gets to keep track of them all, and keeping the timing right becomes more of a challenge.\n",
    "This is where the concept of multiprocessing arises!"
   ]
  },
  {
   "attachments": {},
   "cell_type": "markdown",
   "metadata": {},
   "source": [
    "q2.\n",
    "By formal definition, multithreading refers to the ability of a processor to execute multiple threads concurrently, where each thread runs a process. Whereas multiprocessing refers to the ability of a system to run multiple processors in parallel, where each processor can run one or more threads."
   ]
  },
  {
   "attachments": {},
   "cell_type": "markdown",
   "metadata": {},
   "source": []
  },
  {
   "cell_type": "code",
   "execution_count": 1,
   "metadata": {},
   "outputs": [
    {
     "name": "stdout",
     "output_type": "stream",
     "text": [
      "Done!\n"
     ]
    }
   ],
   "source": [
    "import multiprocessing\n",
    "  \n",
    "def print_cube(num):\n",
    "    print(\"Cube: {}\".format(num * num * num))\n",
    "  \n",
    "def print_square(num):\n",
    "    print(\"Square: {}\".format(num * num))\n",
    "  \n",
    "if __name__ == \"__main__\":\n",
    "\n",
    "    p1 = multiprocessing.Process(target=print_square, args=(10, ))\n",
    "    p2 = multiprocessing.Process(target=print_cube, args=(10, ))\n",
    "  \n",
    "\n",
    "    p1.start()\n",
    "\n",
    "    p2.start()\n",
    "  \n",
    "\n",
    "    p1.join()\n",
    "\n",
    "    p2.join()\n",
    "  \n",
    "\n",
    "    print(\"Done!\")"
   ]
  },
  {
   "attachments": {},
   "cell_type": "markdown",
   "metadata": {},
   "source": [
    "q4.A process pool is a programming pattern for automatically managing a pool of worker processes.\n",
    "\n",
    "The pool is responsible for a fixed number of processes.\n",
    "\n",
    "It controls when they are created, such as when they are needed.\n",
    "It also controls what they should do when they are not being used, such as making them wait without consuming computational resources."
   ]
  },
  {
   "cell_type": "code",
   "execution_count": null,
   "metadata": {},
   "outputs": [],
   "source": [
    "import time\n",
    "import multiprocessing as mp\n",
    "import traceback\n",
    "\n",
    "\n",
    "def my_awesome_foo(n):\n",
    "    print(f'Process {mp.current_process().name} started working on task {n}', flush=True)\n",
    "    if n == 0:\n",
    "        1 / 0\n",
    "    time.sleep(1)\n",
    "    print(f'Process {mp.current_process().name} ended working on task {n}', flush=True)\n",
    "    return n\n",
    "\n",
    "\n",
    "if __name__ == '__main__':\n",
    "    tasks = range(10)\n",
    "    start = time.monotonic()\n",
    "    result = list()\n",
    "    with mp.Pool(4) as p:\n",
    "        iterator = p.imap(my_awesome_foo, tasks)\n",
    "        while True:\n",
    "            try:\n",
    "                result.append(next(iterator))\n",
    "            except StopIteration:\n",
    "                break\n",
    "            except Exception as e:\n",
    "                # do something\n",
    "                result.append(e)\n",
    "    print(f'time took: {time.monotonic() - start:.1f}')\n",
    "    print(result)"
   ]
  },
  {
   "cell_type": "code",
   "execution_count": 13,
   "metadata": {},
   "outputs": [
    {
     "name": "stdout",
     "output_type": "stream",
     "text": [
      "Done!\n"
     ]
    }
   ],
   "source": [
    "import multiprocessing\n",
    "  \n",
    "def print_num1():\n",
    "    print(\"Num: 4\")\n",
    "\n",
    "def print_num2():\n",
    "    print(\"Num: 3\")\n",
    "\n",
    "def print_num3():\n",
    "    print(\"Num: 2\")\n",
    "\n",
    "def print_num4():\n",
    "    print(\"Num: 1\")\n",
    "  \n",
    "\n",
    "  \n",
    "if __name__ == \"__main__\":\n",
    "\n",
    "    p1 = multiprocessing.Process(target=print_num1)\n",
    "    p2 = multiprocessing.Process(target=print_num2)\n",
    "    p3 = multiprocessing.Process(target=print_num3)\n",
    "    p4 = multiprocessing.Process(target=print_num4)\n",
    "  \n",
    "\n",
    "    p1.start()\n",
    "    p2.start()\n",
    "    p3.start()\n",
    "    p4.start()\n",
    "\n",
    "    p1.join()\n",
    "    p2.join()\n",
    "    p3.join()\n",
    "    p4.join()\n",
    "  \n",
    "\n",
    "    print(\"Done!\")"
   ]
  }
 ],
 "metadata": {
  "kernelspec": {
   "display_name": "Python 3",
   "language": "python",
   "name": "python3"
  },
  "language_info": {
   "codemirror_mode": {
    "name": "ipython",
    "version": 3
   },
   "file_extension": ".py",
   "mimetype": "text/x-python",
   "name": "python",
   "nbconvert_exporter": "python",
   "pygments_lexer": "ipython3",
   "version": "3.11.0"
  },
  "orig_nbformat": 4
 },
 "nbformat": 4,
 "nbformat_minor": 2
}
