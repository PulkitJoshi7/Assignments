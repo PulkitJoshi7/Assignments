{
 "cells": [
  {
   "cell_type": "code",
   "execution_count": null,
   "metadata": {},
   "outputs": [],
   "source": []
  },
  {
   "cell_type": "markdown",
   "metadata": {},
   "source": [
    "Mean median mode are three measures of central tendencies."
   ]
  },
  {
   "cell_type": "markdown",
   "metadata": {},
   "source": [
    "A measure of central tendency is a single value that attempts to describe a set of data by identifying the central position within that set of data. As such, measures of central tendency are sometimes called measures of central location. Mean (Arithmetic)\n",
    "Mean\n",
    "The mean is the arithmetic average, and it is probably the measure of central tendency that you are most familiar.\n",
    "Median\n",
    "The median is the middle value. It is the value that splits the dataset in half, making it a natural measure of central tendency.\n",
    "Mode\n",
    "The mode is the value that occurs the most frequently in your data set, making it a different type of measure of central tendency than the mean or median."
   ]
  },
  {
   "cell_type": "markdown",
   "metadata": {},
   "source": [
    "Mean = 177.64375\n",
    "Median = 176.1\n",
    "Mode= 177 and 178"
   ]
  },
  {
   "cell_type": "markdown",
   "metadata": {},
   "source": [
    "standard deviation=1.8238"
   ]
  },
  {
   "cell_type": "markdown",
   "metadata": {},
   "source": [
    "\n",
    "Range:\n",
    "The range is the simplest measure of dispersion and represents the difference between the highest and lowest values in a dataset. It gives a rough idea of how spread out the data is, but it's sensitive to outliers.\n",
    "Example: Consider the following ages of a group of individuals: 25, 30, 28, 35, 40. The range is 40 (highest value) - 25 (lowest value) = 15.\n",
    "\n",
    "Variance:\n",
    "Variance measures the average of squared differences between each data point and the mean. It gives a more comprehensive view of the dispersion, but the result is in squared units, which might not be as intuitive to interpret.\n",
    "Example: Let's say we have the following exam scores of students: 85, 90, 88, 92, 87. First, calculate the mean: (85 + 90 + 88 + 92 + 87) / 5 = 88.4. Then calculate the squared differences from the mean and find their average: ((85 - 88.4)^2 + (90 - 88.4)^2 + (88 - 88.4)^2 + (92 - 88.4)^2 + (87 - 88.4)^2) / 5 ≈ 8.16. So, the variance is approximately 8.16.\n",
    "\n",
    "Standard Deviation:\n",
    "The standard deviation is the square root of the variance. It's a widely used measure of dispersion because it's in the same units as the original data, making it easier to interpret. A higher standard deviation indicates greater variability.\n",
    "Example: Using the same exam scores as above, the standard deviation is the square root of the variance: √(8.16) ≈ 2.86. This means that the exam scores are, on average, about 2.86 points away from the mean."
   ]
  },
  {
   "cell_type": "markdown",
   "metadata": {},
   "source": [
    "Venn diagram-A Venn diagram is an illustration that uses circles to show the relationships among things or finite groups of things. Circles that overlap have a commonality while circles that do not overlap do not share those traits. Venn diagrams help to visually represent the similarities and differences between two concepts."
   ]
  },
  {
   "cell_type": "markdown",
   "metadata": {},
   "source": [
    "A(intersection) B ={2,6}\n",
    "AUB= {0,2,3,4,5,6,7,8,10}\n"
   ]
  },
  {
   "cell_type": "markdown",
   "metadata": {},
   "source": [
    "Skewness is a statistical measure that describes the asymmetry or lack of symmetry in the distribution of data points in a dataset. In other words, it quantifies the degree to which the data is skewed to one side of the central value (mean, median, or mode). A dataset can exhibit three types of skewness: positive skew, negative skew, and no skew (symmetrical distribution)."
   ]
  },
  {
   "cell_type": "markdown",
   "metadata": {},
   "source": [
    "In a right-skewed distribution:\n",
    "\n",
    "The mean will be greater than the median.\n",
    "The median will be positioned to the left of the mean."
   ]
  },
  {
   "cell_type": "markdown",
   "metadata": {},
   "source": [
    "Covariance and correlation are both measures that describe the relationship between two variables in a dataset. They provide insights into how the variables change together. However, they have distinct characteristics and purposes in statistical analysis.\n",
    "\n",
    "Covariance:\n",
    "Covariance measures the degree to which two variables change together. It indicates whether an increase in one variable corresponds to an increase or decrease in the other variable. A positive covariance suggests that the two variables tend to increase or decrease together, while a negative covariance suggests that as one variable increases, the other tends to decrease.\n",
    "\n",
    "\n",
    "Correlation:\n",
    "Correlation is a standardized version of covariance that takes into account the scale of the variables. It measures the strength and direction of the linear relationship between two variables. Correlation ranges between -1 and 1, where -1 indicates a perfect negative linear relationship, 1 indicates a perfect positive linear relationship, and 0 indicates no linear relationship.\n",
    "\n",
    "Pearson correlation coefficient is a widely used measure of correlation and is calculated as:\n",
    "\n",
    "\n",
    "Usage in Statistical Analysis:\n",
    "\n",
    "Covariance is used to understand the direction of relationship between two variables. However, it doesn't provide a standardized measure, making it difficult to compare relationships across different datasets.\n",
    "\n",
    "Correlation is more widely used because it not only indicates the direction of the relationship but also provides a standardized measure that can be easily compared. Correlation is commonly used to identify how strongly two variables are related and to assess the strength of linear associations in various fields like finance, economics, social sciences, and more.\n",
    "\n",
    "In summary, both covariance and correlation provide information about the relationship between two variables, but correlation offers a standardized measure that is more suitable for comparing relationships and assessing the strength of associations in different contexts."
   ]
  },
  {
   "cell_type": "markdown",
   "metadata": {},
   "source": [
    "\n",
    "\n",
    "Mean:\n",
    "The mean of a normal distribution is the arithmetic average of all the data points. In a symmetric normal distribution, the mean is located at the center of the distribution where the curve is highest. The mean is equal to the median and the mode.\n",
    "\n",
    "Median:\n",
    "The median is the middle value in a dataset when it is arranged in ascending order. In a normal distribution, the median is also located at the center of the distribution where the curve is highest. The median is equal to the mean and the mode.\n",
    "\n",
    "Mode:\n",
    "The mode is the value that appears most frequently in a dataset. In a symmetric normal distribution, there is only one peak, and it is located at the center. This means that all values around the center are equally likely to occur, resulting in a single mode. The mode is equal to the mean and the median."
   ]
  },
  {
   "cell_type": "markdown",
   "metadata": {},
   "source": [
    "Covariance and correlation are both measures that describe the relationship between two variables in a dataset, but they have different characteristics and purposes. Here's how they differ:\n",
    "\n",
    "Covariance:\n",
    "\n",
    "Definition: Covariance measures the degree to which two variables change together. It indicates whether an increase in one variable corresponds to an increase or decrease in the other variable.\n",
    "\n",
    "Scale: Covariance is not standardized and can take on any value. Its value is influenced by the scales of the variables.\n",
    "\n",
    "Range: The range of covariance is not bounded, which means it can take both positive and negative values. A positive covariance indicates a positive relationship (variables tend to increase or decrease together), while a negative covariance indicates a negative relationship (one variable tends to increase as the other decreases).\n",
    "\n",
    "Units: The units of covariance are the product of the units of the two variables. This can make it difficult to compare covariance across different datasets with different scales.\n",
    "\n",
    "Correlation:\n",
    "\n",
    "Definition: Correlation also measures the relationship between two variables, but it specifically quantifies the strength and direction of a linear relationship. It indicates how well the change in one variable can be predicted by the change in another variable.\n",
    "\n",
    "Standardized: Correlation is a standardized measure, meaning it's scaled to a range between -1 and 1, regardless of the units of the variables.\n",
    "\n",
    "Range: The range of correlation is bounded between -1 (perfect negative correlation) and 1 (perfect positive correlation), with 0 indicating no linear correlation.\n",
    "\n",
    "Units: Correlation is unitless since it involves the standardization of covariance by dividing it by the product of the standard deviations of the variables.\n",
    "\n",
    "Interpretation:\n",
    "\n",
    "Covariance and correlation have different interpretations due to their scales and ranges. Covariance alone doesn't provide a clear indication of the strength of the relationship, while correlation provides a standardized measure that is easier to interpret and compare."
   ]
  },
  {
   "cell_type": "code",
   "execution_count": null,
   "metadata": {},
   "outputs": [],
   "source": [
    "Outliers are data points that significantly differ from the rest of the dataset. They can have a substantial impact on measures of central tendency (mean, median, mode) and measures of dispersion (range, variance, standard deviation). Outliers can skew the distribution, leading to distortions in these measures.\n",
    "\n",
    "Measures of Central Tendency:\n",
    "\n",
    "Mean: Outliers can have a strong influence on the mean, especially in larger datasets. A single extreme value can pull the mean in its direction, affecting its accuracy in representing the center of the data.\n",
    "\n",
    "Median: The median is less affected by outliers since it only considers the middle value in the ordered dataset. Outliers have minimal impact on the median, making it a more robust measure in the presence of extreme values.\n",
    "\n",
    "Mode: Outliers typically don't affect the mode since it represents the most frequent value(s), and a single outlier doesn't significantly alter the mode.\n",
    "\n",
    "Measures of Dispersion:\n",
    "\n",
    "Range: Outliers can greatly influence the range by expanding it. If an outlier is much larger or smaller than the rest of the data, the range can become larger than it would be without the outlier.\n",
    "\n",
    "Variance and Standard Deviation: Outliers can inflate the variance and standard deviation. Since these measures involve squaring the differences between data points and the mean, outliers with large deviations from the mean contribute disproportionately to these calculations.\n",
    "\n",
    "Example:\n",
    "\n",
    "Consider the following dataset of test scores: 78, 82, 85, 90, 92, 96, 102. The data seems relatively consistent except for the outlier, 102, which is significantly higher than the other scores.\n",
    "\n",
    "Measures of Central Tendency:\n",
    "\n",
    "Mean without outlier: (78 + 82 + 85 + 90 + 92 + 96) / 6 ≈ 87.83\n",
    "\n",
    "Mean with outlier: (78 + 82 + 85 + 90 + 92 + 96 + 102) / 7 ≈ 90.14\n",
    "\n",
    "Median without outlier: 88.5 (middle value)\n",
    "\n",
    "Median with outlier: 90 (middle value)\n",
    "\n",
    "Measures of Dispersion:\n",
    "\n",
    "Range without outlier: 96 - 78 = 18\n",
    "\n",
    "Range with outlier: 102 - 78 = 24\n",
    "\n",
    "Variance without outlier: ~39.24\n",
    "\n",
    "Variance with outlier: ~221.90\n",
    "\n",
    "Standard deviation without outlier: ~6.27\n",
    "\n",
    "Standard deviation with outlier: ~14.91\n",
    "\n",
    "As you can see, the presence of the outlier significantly affects the mean, range, variance, and standard deviation, while the median and mode remain relatively stable. This illustrates how outliers can distort these measures and highlights the importance of considering their impact in data analysis."
   ]
  }
 ],
 "metadata": {
  "kernelspec": {
   "display_name": "Python 3 (ipykernel)",
   "language": "python",
   "name": "python3"
  },
  "language_info": {
   "codemirror_mode": {
    "name": "ipython",
    "version": 3
   },
   "file_extension": ".py",
   "mimetype": "text/x-python",
   "name": "python",
   "nbconvert_exporter": "python",
   "pygments_lexer": "ipython3",
   "version": "3.9.13"
  }
 },
 "nbformat": 4,
 "nbformat_minor": 2
}
