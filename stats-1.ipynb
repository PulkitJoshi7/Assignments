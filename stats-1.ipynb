{
 "cells": [
  {
   "cell_type": "markdown",
   "metadata": {},
   "source": [
    "Statistics is the discipline that concerns the collection, organization, analysis, interpretation, and presentation of data. In applying statistics to a scientific, industrial, or social problem, it is conventional to begin with a statistical population or a statistical model to be studied."
   ]
  },
  {
   "cell_type": "markdown",
   "metadata": {},
   "source": [
    "Descriptive Statistics:\n",
    "Descriptive statistics involves organizing, summarizing, and presenting data in a meaningful way to describe the main features of a dataset. It helps to understand the basic characteristics of the data, such as central tendency, variability, and distribution.\n",
    "Example: Suppose we have collected the test scores of 100 students in a class. Descriptive statistics can be used to calculate the average (mean) test score to know the overall performance of the class. Additionally, we can calculate the standard deviation to understand the spread of scores and whether the results are closely packed or widely distributed.\n",
    "\n",
    "Inferential Statistics:\n",
    "Inferential statistics involves making predictions, inferences, or generalizations about a larger population based on a sample of data. It uses probability theory to draw conclusions and make decisions beyond the immediate dataset.\n",
    "Example: Let's say a manufacturing company produces light bulbs and wants to determine whether a new production process improves the lifespan of the bulbs. Instead of testing all produced bulbs (which may be in the thousands), the company randomly selects a sample of 100 bulbs. Inferential statistics can then be used to calculate a confidence interval for the average lifespan of the sampled bulbs, which can help infer the potential lifespan of all bulbs produced using the new process."
   ]
  },
  {
   "cell_type": "markdown",
   "metadata": {},
   "source": [
    "Numerical Data: Numerical data consists of numbers and can be further divided into two subtypes:\n",
    "\n",
    "a. Continuous Data: Continuous data can take any value within a specific range. It is measured and can have decimal points.\n",
    "\n",
    "Example: Temperature (e.g., 25.5°C), Height (e.g., 170.2 cm)\n",
    "\n",
    "b. Discrete Data: Discrete data can only take specific values, usually in the form of whole numbers.\n",
    "\n",
    "Example: Number of students in a class (e.g., 30 students), Number of cars in a parking lot (e.g., 15 cars)\n",
    "\n",
    "Categorical Data: Categorical data represents groups or categories and is not expressed in a numerical format.\n",
    "\n",
    "a. Nominal Data: Nominal data has categories without any inherent order.\n",
    "\n",
    "Example: Colors (e.g., red, blue, green), Types of animals (e.g., dog, cat, bird)\n",
    "\n",
    "b. Ordinal Data: Ordinal data has categories with a specific order or ranking.\n",
    "\n",
    "Example: Educational levels (e.g., high school, undergraduate, graduate), Customer satisfaction levels (e.g., very dissatisfied, dissatisfied, neutral, satisfied, very satisfied)\n",
    "\n",
    "Text Data: Textual data consists of words, sentences, or paragraphs.\n",
    "\n",
    "Example: Customer reviews, Tweets, Articles"
   ]
  },
  {
   "cell_type": "markdown",
   "metadata": {},
   "source": [
    "1.qualitative\n",
    "2.qualitative\n",
    "3.quantitive\n",
    "4.quantitive"
   ]
  },
  {
   "cell_type": "markdown",
   "metadata": {},
   "source": [
    "Levels of measurement, also known as scales of measurement or data types, refer to the different ways in which data can be classified based on the properties of the data and the operations that can be performed on them. There are four main levels of measurement:\n",
    "\n",
    "Nominal Level: The nominal level of measurement involves categorizing data into distinct groups or categories. In this level, data cannot be ordered or ranked; it only indicates different groups.\n",
    "\n",
    "Example: Eye Color - Here, we have categories like \"blue,\" \"brown,\" \"green,\" etc. The categories are distinct, but there is no inherent order or ranking among them.\n",
    "\n",
    "Ordinal Level: The ordinal level of measurement allows data to be ranked or ordered, but the differences between the values are not meaningful or uniform.\n",
    "\n",
    "Example: Educational Levels - Suppose we have categories like \"high school,\" \"undergraduate,\" and \"graduate.\" We can rank them in the order of educational attainment, but the difference between \"high school\" and \"undergraduate\" is not necessarily the same as the difference between \"undergraduate\" and \"graduate.\"\n",
    "\n",
    "Interval Level: The interval level of measurement not only allows data to be ranked but also has consistent and meaningful intervals between the values. However, there is no true zero point.\n",
    "\n",
    "Example: Temperature (in Celsius or Fahrenheit) - We can rank temperatures, and the difference between 20°C and 30°C is the same as the difference between 70°C and 80°C. However, 0°C does not represent the absence of temperature; it's just an arbitrary point.\n",
    "\n",
    "Ratio Level: The ratio level of measurement possesses all the properties of the previous levels (nominal, ordinal, and interval) but also has a true zero point, meaning it represents the absence of the attribute being measured.\n",
    "\n",
    "Example: Weight - If a person weighs 0 kg, it means they have no weight, making zero a true zero point. We can rank weights, find meaningful intervals, and perform arithmetic operations like addition and multiplication."
   ]
  },
  {
   "cell_type": "markdown",
   "metadata": {},
   "source": [
    "Understanding the level of measurement when analyzing data is crucial because it dictates the types of statistical analyses and operations that can be applied to the data. Different levels of measurement have different properties and limitations, and using the wrong type of analysis for a particular level can lead to incorrect conclusions and interpretations.\n",
    "\n",
    "Here's an example to illustrate the importance of understanding the level of measurement:\n",
    "\n",
    "Suppose we want to analyze data on customer satisfaction with a product and have collected responses on a scale from 1 to 5 (1 being very dissatisfied and 5 being very satisfied). The responses fall under the ordinal level of measurement because they can be ranked but do not have consistent intervals.\n",
    "\n",
    "If we treat the ordinal data as interval data (i.e., assume that the difference between each rating is the same), we may incorrectly perform calculations like computing the mean satisfaction score or using parametric statistical tests like t-tests or ANOVA. Treating ordinal data as interval data can lead to misleading results because the mean may not accurately represent the central tendency, and interval-based statistics are not valid for ordinal data.\n",
    "\n",
    "Instead, when dealing with ordinal data, appropriate measures of central tendency and variability would be median and percentiles, and non-parametric statistical tests like the Mann-Whitney U test or Kruskal-Wallis test should be used to compare groups.\n",
    "\n",
    "On the other hand, if we have data on the heights of individuals (measured in centimeters) and want to analyze it, this data falls under the ratio level of measurement because it possesses all the properties of nominal, ordinal, and interval levels and has a true zero point (0 cm represents no height). In this case, we can accurately calculate the mean, standard deviation, and use parametric tests like t-tests and ANOVA for data analysis.\n",
    "\n",
    "Understanding the level of measurement is crucial to ensure that the correct statistical methods are applied, leading to accurate and meaningful interpretations of the data. It helps researchers and analysts avoid making inappropriate assumptions and ensures that the chosen analyses are best suited for the data at hand."
   ]
  },
  {
   "cell_type": "markdown",
   "metadata": {},
   "source": [
    "in nominal You can categorize your data by labelling them in mutually exclusive groups, but there is no order between the categories. in ordinal You can categorize and rank your data in an order, but you cannot say anything about the intervals between the rankings. "
   ]
  },
  {
   "cell_type": "markdown",
   "metadata": {},
   "source": [
    "A box plot, also known as a box-and-whisker plot, is commonly used to display data in terms of its range. The box plot provides a visual representation of the distribution of a dataset, showing the minimum, maximum, median (50th percentile), and quartiles (25th and 75th percentiles) of the data. It gives a good summary of the spread of the data and identifies potential outliers."
   ]
  },
  {
   "cell_type": "markdown",
   "metadata": {},
   "source": [
    "Descriptive Statistics\tInferential Statistics\n",
    "1.\tIt gives information about raw data which describes the data in some manner.\tIt makes inferences about the population using data drawn from the population.\n",
    "2.\tIt helps in organizing, analyzing, and to present data in a meaningful manner.\tIt allows us to compare data, and make hypotheses and predictions.\n",
    "3.\tIt is used to describe a situation.\tIt is used to explain the chance of occurrence of an event.\n",
    "4.\tIt explains already known data and is limited to a sample or population having a small size.\tIt attempts to reach the conclusion about the population.\n",
    "5.\tIt can be achieved with the help of charts, graphs, tables, etc.\tIt can be achieved by probability."
   ]
  },
  {
   "cell_type": "markdown",
   "metadata": {},
   "source": [
    "A measure of central tendency is a single value that attempts to describe a set of data by identifying the central position within that set of data. As such, measures of central tendency are sometimes called measures of central location. Mean (Arithmetic)\n",
    "Mean\n",
    "The mean is the arithmetic average, and it is probably the measure of central tendency that you are most familiar.\n",
    "Median\n",
    "The median is the middle value. It is the value that splits the dataset in half, making it a natural measure of central tendency.\n",
    "Mode\n",
    "The mode is the value that occurs the most frequently in your data set, making it a different type of measure of central tendency than the mean or median."
   ]
  }
 ],
 "metadata": {
  "language_info": {
   "name": "python"
  },
  "orig_nbformat": 4
 },
 "nbformat": 4,
 "nbformat_minor": 2
}
